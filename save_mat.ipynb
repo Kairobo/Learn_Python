{
 "cells": [
  {
   "cell_type": "code",
   "execution_count": 2,
   "metadata": {},
   "outputs": [],
   "source": [
    "import numpy, scipy.io\n",
    "\n",
    "data = {'1':2,'3':4,'5':6}\n",
    "scipy.io.savemat('test.mat', data, oned_as='row')\n",
    "#savemat('./arrdata1.mat', mdict={'arr': arr})\n"
   ]
  },
  {
   "cell_type": "code",
   "execution_count": 1,
   "metadata": {},
   "outputs": [
    {
     "name": "stdout",
     "output_type": "stream",
     "text": [
      "[[1 2 3 4]]\n",
      "[[10 20 30 40]]\n",
      "[[100 200 300 400]]\n"
     ]
    }
   ],
   "source": [
    "import scipy.io as io\n",
    "import numpy as np\n",
    "\n",
    "y1=np.array([1,2,3,4])\n",
    "y2=np.array([10,20,30,40])\n",
    "y3=np.array([100,200,300,400])\n",
    "\n",
    "a={}\n",
    "a['test1']=y1\n",
    "a['test2']=y2\n",
    "a['test3']=y3\n",
    "io.savemat('temp',a)\n",
    "b = io.loadmat('temp')\n",
    "\n",
    "print(b['test1'])\n",
    "print(b['test2'])\n",
    "print(b['test3'])"
   ]
  },
  {
   "cell_type": "markdown",
   "metadata": {},
   "source": [
    "#save as string list"
   ]
  },
  {
   "cell_type": "code",
   "execution_count": 6,
   "metadata": {},
   "outputs": [],
   "source": [
    "str_list = ['aa','bb','cc']\n",
    "io.savemat('temp1',mdict={'temp1':str_list})\n"
   ]
  },
  {
   "cell_type": "code",
   "execution_count": null,
   "metadata": {},
   "outputs": [],
   "source": []
  }
 ],
 "metadata": {
  "kernelspec": {
   "display_name": "Python 3",
   "language": "python",
   "name": "python3"
  },
  "language_info": {
   "codemirror_mode": {
    "name": "ipython",
    "version": 3
   },
   "file_extension": ".py",
   "mimetype": "text/x-python",
   "name": "python",
   "nbconvert_exporter": "python",
   "pygments_lexer": "ipython3",
   "version": "3.6.2"
  }
 },
 "nbformat": 4,
 "nbformat_minor": 2
}
